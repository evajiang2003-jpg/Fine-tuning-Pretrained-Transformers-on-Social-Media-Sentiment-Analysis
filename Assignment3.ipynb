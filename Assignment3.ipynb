{
 "cells": [
  {
   "cell_type": "markdown",
   "metadata": {},
   "source": [
    "# **Assignment 3**"
   ]
  },
  {
   "cell_type": "code",
   "execution_count": null,
   "metadata": {
    "trusted": true
   },
   "outputs": [],
   "source": [
    "# This cell runs only once. After execution, restart the Kernel before running subsequent cells.\n",
    "packages = [\n",
    "    \"transformers==4.44.2\",\n",
    "    \"datasets==2.19.1\",\n",
    "    \"evaluate==0.4.2\",\n",
    "    \"peft==0.11.1\",\n",
    "    \"accelerate==0.33.0\",\n",
    "    \"huggingface-hub>=0.23,<0.25\",\n",
    "    \"tokenizers>=0.19,<0.21\",\n",
    "    \"safetensors>=0.4\"\n",
    "]\n",
    "\n",
    "for pkg in packages:\n",
    "    !pip install -q --no-warn-conflicts \"{pkg}\""
   ]
  },
  {
   "cell_type": "code",
   "execution_count": 1,
   "metadata": {
    "execution": {
     "iopub.execute_input": "2025-10-17T06:09:09.087944Z",
     "iopub.status.busy": "2025-10-17T06:09:09.087244Z",
     "iopub.status.idle": "2025-10-17T06:09:16.064431Z",
     "shell.execute_reply": "2025-10-17T06:09:16.063835Z",
     "shell.execute_reply.started": "2025-10-17T06:09:09.087918Z"
    },
    "trusted": true
   },
   "outputs": [],
   "source": [
    "import pandas as pd\n",
    "import numpy as np\n",
    "import torch\n",
    "from torch.utils.data import Dataset, DataLoader, TensorDataset\n",
    "import transformers\n",
    "from transformers import DistilBertTokenizerFast\n",
    "from transformers import DistilBertForSequenceClassification, AdamW\n",
    "from sklearn.metrics import (\n",
    "    accuracy_score, f1_score, precision_score, recall_score, confusion_matrix, classification_report\n",
    ")\n",
    "from sklearn.model_selection import train_test_split\n",
    "from tqdm.auto import tqdm\n",
    "from sklearn.metrics import confusion_matrix\n",
    "import time\n",
    "import seaborn as sns\n",
    "import matplotlib.pyplot as plt\n",
    "from peft import LoraConfig, get_peft_model, TaskType\n",
    "from collections import Counter\n",
    "import re\n",
    "from nltk.corpus import stopwords"
   ]
  },
  {
   "cell_type": "code",
   "execution_count": 2,
   "metadata": {
    "execution": {
     "iopub.execute_input": "2025-10-17T06:12:03.028932Z",
     "iopub.status.busy": "2025-10-17T06:12:03.028373Z",
     "iopub.status.idle": "2025-10-17T06:12:03.033971Z",
     "shell.execute_reply": "2025-10-17T06:12:03.033190Z",
     "shell.execute_reply.started": "2025-10-17T06:12:03.028911Z"
    },
    "trusted": true
   },
   "outputs": [
    {
     "name": "stdout",
     "output_type": "stream",
     "text": [
      "Using device: cuda\n"
     ]
    }
   ],
   "source": [
    "device = torch.device(\"cuda\") if torch.cuda.is_available() else torch.device(\"cpu\")\n",
    "print(\"Using device:\", device)"
   ]
  },
  {
   "cell_type": "code",
   "execution_count": 15,
   "metadata": {
    "execution": {
     "iopub.execute_input": "2025-10-17T06:29:04.686973Z",
     "iopub.status.busy": "2025-10-17T06:29:04.686641Z",
     "iopub.status.idle": "2025-10-17T06:29:04.702110Z",
     "shell.execute_reply": "2025-10-17T06:29:04.701383Z",
     "shell.execute_reply.started": "2025-10-17T06:29:04.686951Z"
    },
    "trusted": true
   },
   "outputs": [
    {
     "name": "stdout",
     "output_type": "stream",
     "text": [
      "Transformers Version: 4.44.2\n"
     ]
    }
   ],
   "source": [
    "print(\"Transformers Version:\", transformers.__version__)"
   ]
  },
  {
   "cell_type": "markdown",
   "metadata": {},
   "source": [
    "## **Data Input and Preprocessing**"
   ]
  },
  {
   "cell_type": "code",
   "execution_count": 4,
   "metadata": {
    "execution": {
     "iopub.execute_input": "2025-10-17T06:12:09.165102Z",
     "iopub.status.busy": "2025-10-17T06:12:09.164536Z",
     "iopub.status.idle": "2025-10-17T06:12:09.578568Z",
     "shell.execute_reply": "2025-10-17T06:12:09.577926Z",
     "shell.execute_reply.started": "2025-10-17T06:12:09.165081Z"
    },
    "trusted": true
   },
   "outputs": [
    {
     "name": "stdout",
     "output_type": "stream",
     "text": [
      "Path to dataset files: /kaggle/input/sentiment140\n"
     ]
    }
   ],
   "source": [
    "import kagglehub\n",
    "\n",
    "# Download latest version\n",
    "path = kagglehub.dataset_download(\"kazanova/sentiment140\")\n",
    "\n",
    "print(\"Path to dataset files:\", path)"
   ]
  },
  {
   "cell_type": "code",
   "execution_count": 5,
   "metadata": {
    "execution": {
     "iopub.execute_input": "2025-10-17T06:12:21.324687Z",
     "iopub.status.busy": "2025-10-17T06:12:21.324395Z",
     "iopub.status.idle": "2025-10-17T06:12:21.333950Z",
     "shell.execute_reply": "2025-10-17T06:12:21.333278Z",
     "shell.execute_reply.started": "2025-10-17T06:12:21.324669Z"
    },
    "trusted": true
   },
   "outputs": [
    {
     "name": "stdout",
     "output_type": "stream",
     "text": [
      "['training.1600000.processed.noemoticon.csv']\n"
     ]
    }
   ],
   "source": [
    "import os\n",
    "\n",
    "data_dir = \"/kaggle/input/sentiment140\"\n",
    "print(os.listdir(data_dir))"
   ]
  },
  {
   "cell_type": "code",
   "execution_count": 6,
   "metadata": {
    "execution": {
     "iopub.execute_input": "2025-10-17T06:12:28.773430Z",
     "iopub.status.busy": "2025-10-17T06:12:28.772816Z",
     "iopub.status.idle": "2025-10-17T06:12:34.611088Z",
     "shell.execute_reply": "2025-10-17T06:12:34.610385Z",
     "shell.execute_reply.started": "2025-10-17T06:12:28.773410Z"
    },
    "trusted": true
   },
   "outputs": [
    {
     "name": "stdout",
     "output_type": "stream",
     "text": [
      "label\n",
      "0    800000\n",
      "1    800000\n",
      "Name: count, dtype: int64\n"
     ]
    }
   ],
   "source": [
    "file_path = os.path.join(data_dir, \"training.1600000.processed.noemoticon.csv\")\n",
    "columns = [\"sentiment\", \"ids\", \"date\", \"query\", \"user\", \"text\"]\n",
    "df = pd.read_csv(file_path, encoding='latin-1', names=columns)\n",
    "\n",
    "# 0=negative, 1=positive\n",
    "df = df[df['sentiment'].isin([0, 4])]  \n",
    "df[\"label\"] = df[\"sentiment\"].apply(lambda x: 0 if x == 0 else 1)\n",
    "\n",
    "print(df[\"label\"].value_counts())"
   ]
  },
  {
   "cell_type": "code",
   "execution_count": 7,
   "metadata": {
    "execution": {
     "iopub.execute_input": "2025-10-17T06:12:38.688644Z",
     "iopub.status.busy": "2025-10-17T06:12:38.688057Z",
     "iopub.status.idle": "2025-10-17T06:12:39.009599Z",
     "shell.execute_reply": "2025-10-17T06:12:39.008504Z",
     "shell.execute_reply.started": "2025-10-17T06:12:38.688624Z"
    },
    "trusted": true
   },
   "outputs": [
    {
     "name": "stdout",
     "output_type": "stream",
     "text": [
      "Sampled label distribution:\n",
      "label\n",
      "1    40000\n",
      "0    40000\n",
      "Name: count, dtype: int64\n"
     ]
    }
   ],
   "source": [
    "# Stratified sampling, total of 80,000\n",
    "n_total = 80000\n",
    "n_neg = n_total // 2\n",
    "n_pos = n_total - n_neg\n",
    "\n",
    "df_negative = df[df['label']==0].sample(n=n_neg, random_state=42)\n",
    "df_positive = df[df['label']==1].sample(n=n_pos, random_state=42)\n",
    "\n",
    "df_sampled = pd.concat([df_negative, df_positive]).sample(frac=1, random_state=42)  \n",
    "\n",
    "\n",
    "print(\"Sampled label distribution:\")\n",
    "print(df_sampled[\"label\"].value_counts())"
   ]
  },
  {
   "cell_type": "markdown",
   "metadata": {},
   "source": [
    "### **Divide Training & Validation**"
   ]
  },
  {
   "cell_type": "code",
   "execution_count": 8,
   "metadata": {
    "execution": {
     "iopub.execute_input": "2025-10-17T06:13:05.906136Z",
     "iopub.status.busy": "2025-10-17T06:13:05.905839Z",
     "iopub.status.idle": "2025-10-17T06:13:05.969061Z",
     "shell.execute_reply": "2025-10-17T06:13:05.968466Z",
     "shell.execute_reply.started": "2025-10-17T06:13:05.906114Z"
    },
    "trusted": true
   },
   "outputs": [],
   "source": [
    "train_texts, val_texts, train_labels, val_labels = train_test_split(\n",
    "    df_sampled[\"text\"].tolist(),\n",
    "    df_sampled[\"label\"].tolist(),\n",
    "    test_size=0.1,\n",
    "    random_state=42,\n",
    "    stratify=df_sampled[\"label\"]\n",
    ")"
   ]
  },
  {
   "cell_type": "code",
   "execution_count": 9,
   "metadata": {
    "execution": {
     "iopub.execute_input": "2025-10-17T06:13:08.573905Z",
     "iopub.status.busy": "2025-10-17T06:13:08.573280Z",
     "iopub.status.idle": "2025-10-17T06:13:08.578645Z",
     "shell.execute_reply": "2025-10-17T06:13:08.577784Z",
     "shell.execute_reply.started": "2025-10-17T06:13:08.573879Z"
    },
    "trusted": true
   },
   "outputs": [
    {
     "name": "stdout",
     "output_type": "stream",
     "text": [
      "Train Texts:\n",
      "[\".also spent the whole night with watching the first season of BONES and fell asleep at 8a.m *lol* .. yeah, I'm nerdy.. so what of it \", \"I can't find a job!!!  Anyone want to employ me?\", 'iPhone OS 3.0 Beta 5 is the buggiest version yet. Yuk. ', 'Kinda restless. Sleep may not happen just yet... ', \"@justineyyy because when he's pissed, he's not going to pretend he isn't.  so go, yoochun! wooot! lol.\"]\n",
      "Train Labels:\n",
      "[1, 0, 0, 0, 1]\n",
      "Val Texts:\n",
      "[\"I've had the most hectic day: meetings, organising flights, trying to organise insurance to go overseas, catching up. No exams != no work \", 'back to work mode.. ', 'o lawd I aont feeln too good. hope I aint got the swines!!!! ', '@Filttr Does your filtering algorithm strip out more updates when the mobile interface is used? Seems that way. (Good!!! ', '@cdeocampo goood morning!!! ']\n",
      "ValLabels:\n",
      "[0, 0, 0, 1, 1]\n"
     ]
    }
   ],
   "source": [
    "print(\"Train Texts:\")\n",
    "print(train_texts[:5])\n",
    "print(\"Train Labels:\")\n",
    "print(train_labels[:5])\n",
    "\n",
    "print(\"Val Texts:\")\n",
    "print(val_texts[:5])\n",
    "print(\"ValLabels:\")\n",
    "print(val_labels[:5])"
   ]
  },
  {
   "cell_type": "markdown",
   "metadata": {},
   "source": [
    "### **Tokenize & Encoding**"
   ]
  },
  {
   "cell_type": "code",
   "execution_count": null,
   "metadata": {
    "execution": {
     "iopub.execute_input": "2025-10-17T06:13:12.677209Z",
     "iopub.status.busy": "2025-10-17T06:13:12.676933Z",
     "iopub.status.idle": "2025-10-17T06:13:23.019755Z",
     "shell.execute_reply": "2025-10-17T06:13:23.018911Z",
     "shell.execute_reply.started": "2025-10-17T06:13:12.677190Z"
    },
    "trusted": true
   },
   "outputs": [
    {
     "data": {
      "application/vnd.jupyter.widget-view+json": {
       "model_id": "71356c3e6e86491f9cb3f0a6b4e8a0d4",
       "version_major": 2,
       "version_minor": 0
      },
      "text/plain": [
       "tokenizer_config.json:   0%|          | 0.00/48.0 [00:00<?, ?B/s]"
      ]
     },
     "metadata": {},
     "output_type": "display_data"
    },
    {
     "data": {
      "application/vnd.jupyter.widget-view+json": {
       "model_id": "f4177fe69a8d41a6ad56ad0297f9141f",
       "version_major": 2,
       "version_minor": 0
      },
      "text/plain": [
       "vocab.txt:   0%|          | 0.00/232k [00:00<?, ?B/s]"
      ]
     },
     "metadata": {},
     "output_type": "display_data"
    },
    {
     "data": {
      "application/vnd.jupyter.widget-view+json": {
       "model_id": "02dd6a363adb4b2ba899697814e7ae31",
       "version_major": 2,
       "version_minor": 0
      },
      "text/plain": [
       "tokenizer.json:   0%|          | 0.00/466k [00:00<?, ?B/s]"
      ]
     },
     "metadata": {},
     "output_type": "display_data"
    },
    {
     "data": {
      "application/vnd.jupyter.widget-view+json": {
       "model_id": "51436101a91648de97fbacceed6a4fbf",
       "version_major": 2,
       "version_minor": 0
      },
      "text/plain": [
       "config.json:   0%|          | 0.00/483 [00:00<?, ?B/s]"
      ]
     },
     "metadata": {},
     "output_type": "display_data"
    },
    {
     "name": "stderr",
     "output_type": "stream",
     "text": [
      "/usr/local/lib/python3.11/dist-packages/transformers/tokenization_utils_base.py:1601: FutureWarning: `clean_up_tokenization_spaces` was not set. It will be set to `True` by default. This behavior will be depracted in transformers v4.45, and will be then set to `False` by default. For more details check this issue: https://github.com/huggingface/transformers/issues/31884\n",
      "  warnings.warn(\n"
     ]
    },
    {
     "name": "stdout",
     "output_type": "stream",
     "text": [
      "Sample Text：.also spent the whole night with watching the first season of BONES and fell asleep at 8a.m *lol* .. yeah, I'm nerdy.. so what of it \n",
      "Encoded Lenth：128\n"
     ]
    }
   ],
   "source": [
    "tokenizer = DistilBertTokenizerFast.from_pretrained(\n",
    "    \"distilbert-base-uncased\",\n",
    "    cache_dir=\"./distilbert-cache\",\n",
    "    force_download=False\n",
    ")\n",
    "\n",
    "# Encoding\n",
    "train_encodings = tokenizer(\n",
    "    train_texts,\n",
    "    padding=\"max_length\",\n",
    "    truncation=True,\n",
    "    max_length=128,\n",
    "    return_tensors=\"pt\"\n",
    ")\n",
    "val_encodings = tokenizer(\n",
    "    val_texts,\n",
    "    padding=\"max_length\",\n",
    "    truncation=True,\n",
    "    max_length=128,\n",
    "    return_tensors=\"pt\"\n",
    ")\n",
    "\n",
    "sample_text = train_texts[0]\n",
    "encoded = tokenizer(sample_text, padding=\"max_length\", truncation=True, max_length=128, return_tensors=\"pt\")\n",
    "print(f\"Sample Text：{sample_text}\")\n",
    "print(f\"Encoded Lenth：{len(encoded['input_ids'][0])}\")"
   ]
  },
  {
   "cell_type": "markdown",
   "metadata": {},
   "source": [
    "### **PyTorch Dataset**"
   ]
  },
  {
   "cell_type": "code",
   "execution_count": 11,
   "metadata": {
    "execution": {
     "iopub.execute_input": "2025-10-17T06:13:23.021184Z",
     "iopub.status.busy": "2025-10-17T06:13:23.020960Z",
     "iopub.status.idle": "2025-10-17T06:13:23.026207Z",
     "shell.execute_reply": "2025-10-17T06:13:23.025507Z",
     "shell.execute_reply.started": "2025-10-17T06:13:23.021167Z"
    },
    "trusted": true
   },
   "outputs": [],
   "source": [
    "class TextDataset(Dataset):\n",
    "    def __init__(self, encodings, labels):\n",
    "        self.encodings = encodings\n",
    "        self.labels = labels\n",
    "    \n",
    "    def __len__(self):\n",
    "        return len(self.labels)\n",
    "    \n",
    "    def __getitem__(self, idx):\n",
    "        item = {key: val[idx] for key, val in self.encodings.items()}\n",
    "        item['labels'] = torch.tensor(self.labels[idx])\n",
    "        return item\n",
    "\n",
    "train_dataset = TextDataset(train_encodings, train_labels)\n",
    "val_dataset = TextDataset(val_encodings, val_labels)"
   ]
  },
  {
   "cell_type": "markdown",
   "metadata": {},
   "source": [
    "### **DataLoader**"
   ]
  },
  {
   "cell_type": "code",
   "execution_count": 12,
   "metadata": {
    "execution": {
     "iopub.execute_input": "2025-10-17T06:13:23.027295Z",
     "iopub.status.busy": "2025-10-17T06:13:23.026969Z",
     "iopub.status.idle": "2025-10-17T06:13:23.041366Z",
     "shell.execute_reply": "2025-10-17T06:13:23.040768Z",
     "shell.execute_reply.started": "2025-10-17T06:13:23.027273Z"
    },
    "trusted": true
   },
   "outputs": [],
   "source": [
    "train_loader = DataLoader(train_dataset, batch_size=16, shuffle=True)\n",
    "val_loader = DataLoader(val_dataset, batch_size=16)"
   ]
  },
  {
   "cell_type": "markdown",
   "metadata": {},
   "source": [
    "### **Loading the model onto the GPU**"
   ]
  },
  {
   "cell_type": "markdown",
   "metadata": {},
   "source": [
    "**Full Fine-tuning：**"
   ]
  },
  {
   "cell_type": "code",
   "execution_count": 13,
   "metadata": {
    "execution": {
     "iopub.execute_input": "2025-10-17T06:13:27.415090Z",
     "iopub.status.busy": "2025-10-17T06:13:27.414524Z",
     "iopub.status.idle": "2025-10-17T06:29:04.680228Z",
     "shell.execute_reply": "2025-10-17T06:29:04.679508Z",
     "shell.execute_reply.started": "2025-10-17T06:13:27.415069Z"
    },
    "trusted": true
   },
   "outputs": [
    {
     "name": "stdout",
     "output_type": "stream",
     "text": [
      "Using device: cuda\n"
     ]
    },
    {
     "data": {
      "application/vnd.jupyter.widget-view+json": {
       "model_id": "3220178410c44433947589d3621c8b83",
       "version_major": 2,
       "version_minor": 0
      },
      "text/plain": [
       "config.json:   0%|          | 0.00/483 [00:00<?, ?B/s]"
      ]
     },
     "metadata": {},
     "output_type": "display_data"
    },
    {
     "data": {
      "application/vnd.jupyter.widget-view+json": {
       "model_id": "c78e6953c98f4e3491180494947bcea2",
       "version_major": 2,
       "version_minor": 0
      },
      "text/plain": [
       "model.safetensors:   0%|          | 0.00/268M [00:00<?, ?B/s]"
      ]
     },
     "metadata": {},
     "output_type": "display_data"
    },
    {
     "name": "stderr",
     "output_type": "stream",
     "text": [
      "Some weights of DistilBertForSequenceClassification were not initialized from the model checkpoint at distilbert-base-uncased and are newly initialized: ['classifier.bias', 'classifier.weight', 'pre_classifier.bias', 'pre_classifier.weight']\n",
      "You should probably TRAIN this model on a down-stream task to be able to use it for predictions and inference.\n",
      "/usr/local/lib/python3.11/dist-packages/transformers/optimization.py:591: FutureWarning: This implementation of AdamW is deprecated and will be removed in a future version. Use the PyTorch implementation torch.optim.AdamW instead, or set `no_deprecation_warning=True` to disable this warning\n",
      "  warnings.warn(\n"
     ]
    },
    {
     "name": "stdout",
     "output_type": "stream",
     "text": [
      "\n",
      " Full Fine-tuning \n",
      "\n",
      "\n",
      "Epoch 1/2\n"
     ]
    },
    {
     "data": {
      "application/vnd.jupyter.widget-view+json": {
       "model_id": "",
       "version_major": 2,
       "version_minor": 0
      },
      "text/plain": [
       "Training:   0%|          | 0/4500 [00:00<?, ?it/s]"
      ]
     },
     "metadata": {},
     "output_type": "display_data"
    },
    {
     "data": {
      "application/vnd.jupyter.widget-view+json": {
       "model_id": "",
       "version_major": 2,
       "version_minor": 0
      },
      "text/plain": [
       "Validating:   0%|          | 0/250 [00:00<?, ?it/s]"
      ]
     },
     "metadata": {},
     "output_type": "display_data"
    },
    {
     "name": "stdout",
     "output_type": "stream",
     "text": [
      "Epoch 1 Time: 466.39 sec\n",
      "Training Loss: 0.4085 | Validation Loss: 0.3728\n",
      "Validation | Accuracy: 0.8334 | F1: 0.8332 | Precision: 0.8348 | Recall: 0.8334\n",
      "----------------------------------------------------------------------\n",
      "\n",
      "Epoch 2/2\n"
     ]
    },
    {
     "data": {
      "application/vnd.jupyter.widget-view+json": {
       "model_id": "",
       "version_major": 2,
       "version_minor": 0
      },
      "text/plain": [
       "Training:   0%|          | 0/4500 [00:00<?, ?it/s]"
      ]
     },
     "metadata": {},
     "output_type": "display_data"
    },
    {
     "data": {
      "application/vnd.jupyter.widget-view+json": {
       "model_id": "",
       "version_major": 2,
       "version_minor": 0
      },
      "text/plain": [
       "Validating:   0%|          | 0/250 [00:00<?, ?it/s]"
      ]
     },
     "metadata": {},
     "output_type": "display_data"
    },
    {
     "name": "stdout",
     "output_type": "stream",
     "text": [
      "Epoch 2 Time: 466.27 sec\n",
      "Training Loss: 0.3037 | Validation Loss: 0.3812\n",
      "Validation | Accuracy: 0.8371 | F1: 0.8369 | Precision: 0.8388 | Recall: 0.8371\n",
      "----------------------------------------------------------------------\n",
      "\n",
      "=== Final Summary (Full Fine-tuning) ===\n",
      "Total Training Time: 15.54 min\n",
      "Average Time per Epoch: 466.33 sec\n",
      "Average Training Loss: 0.3561\n",
      "Average Validation Loss: 0.3770\n",
      "\n",
      "Classification Report:\n",
      "              precision    recall  f1-score   support\n",
      "\n",
      "    negative       0.81      0.87      0.84      4000\n",
      "    positive       0.86      0.80      0.83      4000\n",
      "\n",
      "    accuracy                           0.84      8000\n",
      "   macro avg       0.84      0.84      0.84      8000\n",
      "weighted avg       0.84      0.84      0.84      8000\n",
      "\n"
     ]
    },
    {
     "data": {
      "image/png": "[encoded data removed]",
      "text/plain": [
       "<Figure size 500x400 with 2 Axes>"
      ]
     },
     "metadata": {},
     "output_type": "display_data"
    }
   ],
   "source": [
    "device = \"cuda\" if torch.cuda.is_available() else \"cpu\"\n",
    "print(\"Using device:\", device)\n",
    "\n",
    "# Dataset & Dataloader\n",
    "train_dataset = TensorDataset(\n",
    "    train_encodings['input_ids'],\n",
    "    train_encodings['attention_mask'],\n",
    "    torch.tensor(train_labels)\n",
    ")\n",
    "val_dataset = TensorDataset(\n",
    "    val_encodings['input_ids'],\n",
    "    val_encodings['attention_mask'],\n",
    "    torch.tensor(val_labels)\n",
    ")\n",
    "\n",
    "train_loader = DataLoader(train_dataset, batch_size=16, shuffle=True)\n",
    "val_loader = DataLoader(val_dataset, batch_size=32)\n",
    "\n",
    "# Initialization & Optimization\n",
    "full_model = DistilBertForSequenceClassification.from_pretrained(\n",
    "    \"distilbert-base-uncased\",\n",
    "    num_labels=2  # 二分类\n",
    ")\n",
    "full_model.to(device)\n",
    "optimizer = AdamW(full_model.parameters(), lr=2e-5)\n",
    "\n",
    "# Training Loop\n",
    "epochs = 2\n",
    "train_loss_history, val_loss_history = [], []\n",
    "epoch_times = []\n",
    "\n",
    "print(\"\\n Full Fine-tuning \\n\")\n",
    "start_time = time.time()\n",
    "\n",
    "for epoch in range(epochs):\n",
    "    epoch_start = time.time()\n",
    "    print(f\"\\nEpoch {epoch+1}/{epochs}\")\n",
    "\n",
    "    # === Training ===\n",
    "    full_model.train()\n",
    "    total_train_loss = 0.0\n",
    "    progress_bar = tqdm(train_loader, desc=\"Training\", leave=False)\n",
    "\n",
    "    for batch in progress_bar:\n",
    "        input_ids, attention_mask, labels = [b.to(device) for b in batch]\n",
    "        outputs = full_model(input_ids, attention_mask=attention_mask, labels=labels)\n",
    "        loss = outputs.loss\n",
    "        total_train_loss += loss.item()\n",
    "\n",
    "        optimizer.zero_grad()\n",
    "        loss.backward()\n",
    "        optimizer.step()\n",
    "\n",
    "        progress_bar.set_postfix({\"loss\": f\"{loss.item():.4f}\"})\n",
    "\n",
    "    avg_train_loss = total_train_loss / len(train_loader)\n",
    "    train_loss_history.append(avg_train_loss)\n",
    "\n",
    "    # === Validation ===\n",
    "    full_model.eval()\n",
    "    total_val_loss = 0.0\n",
    "    all_preds, all_labels = [], []\n",
    "\n",
    "    with torch.no_grad():\n",
    "        for batch in tqdm(val_loader, desc=\"Validating\", leave=False):\n",
    "            input_ids, attention_mask, labels = [b.to(device) for b in batch]\n",
    "            outputs = full_model(input_ids, attention_mask=attention_mask, labels=labels)\n",
    "            total_val_loss += outputs.loss.item()\n",
    "            preds = torch.argmax(outputs.logits, dim=-1)\n",
    "            all_preds.extend(preds.cpu().numpy())\n",
    "            all_labels.extend(labels.cpu().numpy())\n",
    "\n",
    "    avg_val_loss = total_val_loss / len(val_loader)\n",
    "    val_loss_history.append(avg_val_loss)\n",
    "\n",
    "    acc = accuracy_score(all_labels, all_preds)\n",
    "    f1 = f1_score(all_labels, all_preds, average='weighted')\n",
    "    precision = precision_score(all_labels, all_preds, average='weighted')\n",
    "    recall = recall_score(all_labels, all_preds, average='weighted')\n",
    "\n",
    "    epoch_time = time.time() - epoch_start\n",
    "    epoch_times.append(epoch_time)\n",
    "\n",
    "    print(f\"Epoch {epoch+1} Time: {epoch_time:.2f} sec\")\n",
    "    print(f\"Training Loss: {avg_train_loss:.4f} | Validation Loss: {avg_val_loss:.4f}\")\n",
    "    print(f\"Validation | Accuracy: {acc:.4f} | F1: {f1:.4f} | Precision: {precision:.4f} | Recall: {recall:.4f}\")\n",
    "    print(\"-\" * 70)\n",
    "\n",
    "total_time = time.time() - start_time\n",
    "\n",
    "# Summary\n",
    "print(\"\\n=== Final Summary (Full Fine-tuning) ===\")\n",
    "print(f\"Total Training Time: {total_time/60:.2f} min\")\n",
    "print(f\"Average Time per Epoch: {np.mean(epoch_times):.2f} sec\")\n",
    "print(f\"Average Training Loss: {np.mean(train_loss_history):.4f}\")\n",
    "print(f\"Average Validation Loss: {np.mean(val_loss_history):.4f}\")\n",
    "\n",
    "print(\"\\nClassification Report:\")\n",
    "print(classification_report(all_labels, all_preds, target_names=[\"negative\", \"positive\"]))\n",
    "\n",
    "# Confusion Matrix\n",
    "cm_full = confusion_matrix(all_labels, all_preds)\n",
    "plt.figure(figsize=(5, 4))\n",
    "sns.heatmap(cm_full, annot=True, fmt=\"d\", cmap=\"Blues\",\n",
    "            xticklabels=[\"Pred:Neg\", \"Pred:Pos\"],\n",
    "            yticklabels=[\"True:Neg\", \"True:Pos\"])\n",
    "plt.title(\"Confusion Matrix (Full Fine-tuning)\")\n",
    "plt.xlabel(\"Predicted\")\n",
    "plt.ylabel(\"True\")\n",
    "plt.show()\n"
   ]
  },
  {
   "cell_type": "markdown",
   "metadata": {},
   "source": [
    "**Partial Fine-tuning**"
   ]
  },
  {
   "cell_type": "markdown",
   "metadata": {},
   "source": [
    "***LoRA***"
   ]
  },
  {
   "cell_type": "code",
   "execution_count": 16,
   "metadata": {
    "execution": {
     "iopub.execute_input": "2025-10-17T06:30:17.326654Z",
     "iopub.status.busy": "2025-10-17T06:30:17.326052Z",
     "iopub.status.idle": "2025-10-17T06:40:54.482937Z",
     "shell.execute_reply": "2025-10-17T06:40:54.482244Z",
     "shell.execute_reply.started": "2025-10-17T06:30:17.326629Z"
    },
    "trusted": true
   },
   "outputs": [
    {
     "name": "stdout",
     "output_type": "stream",
     "text": [
      "Using device: cuda\n"
     ]
    },
    {
     "name": "stderr",
     "output_type": "stream",
     "text": [
      "Some weights of DistilBertForSequenceClassification were not initialized from the model checkpoint at distilbert-base-uncased and are newly initialized: ['classifier.bias', 'classifier.weight', 'pre_classifier.bias', 'pre_classifier.weight']\n",
      "You should probably TRAIN this model on a down-stream task to be able to use it for predictions and inference.\n"
     ]
    },
    {
     "name": "stdout",
     "output_type": "stream",
     "text": [
      "\n",
      " LoRA Fine-tuning \n",
      "\n",
      "\n",
      "Epoch 1/2\n"
     ]
    },
    {
     "name": "stderr",
     "output_type": "stream",
     "text": [
      "/usr/local/lib/python3.11/dist-packages/transformers/optimization.py:591: FutureWarning: This implementation of AdamW is deprecated and will be removed in a future version. Use the PyTorch implementation torch.optim.AdamW instead, or set `no_deprecation_warning=True` to disable this warning\n",
      "  warnings.warn(\n"
     ]
    },
    {
     "data": {
      "application/vnd.jupyter.widget-view+json": {
       "model_id": "",
       "version_major": 2,
       "version_minor": 0
      },
      "text/plain": [
       "Training:   0%|          | 0/4500 [00:00<?, ?it/s]"
      ]
     },
     "metadata": {},
     "output_type": "display_data"
    },
    {
     "data": {
      "application/vnd.jupyter.widget-view+json": {
       "model_id": "",
       "version_major": 2,
       "version_minor": 0
      },
      "text/plain": [
       "Validating:   0%|          | 0/250 [00:00<?, ?it/s]"
      ]
     },
     "metadata": {},
     "output_type": "display_data"
    },
    {
     "name": "stdout",
     "output_type": "stream",
     "text": [
      "Epoch 1 Time: 317.87 sec\n",
      "Training Loss: 0.4717 | Validation Loss: 0.4265\n",
      "Validation | Accuracy: 0.8033 | F1: 0.8031 | Precision: 0.8043 | Recall: 0.8033\n",
      "----------------------------------------------------------------------\n",
      "\n",
      "Epoch 2/2\n"
     ]
    },
    {
     "data": {
      "application/vnd.jupyter.widget-view+json": {
       "model_id": "",
       "version_major": 2,
       "version_minor": 0
      },
      "text/plain": [
       "Training:   0%|          | 0/4500 [00:00<?, ?it/s]"
      ]
     },
     "metadata": {},
     "output_type": "display_data"
    },
    {
     "data": {
      "application/vnd.jupyter.widget-view+json": {
       "model_id": "",
       "version_major": 2,
       "version_minor": 0
      },
      "text/plain": [
       "Validating:   0%|          | 0/250 [00:00<?, ?it/s]"
      ]
     },
     "metadata": {},
     "output_type": "display_data"
    },
    {
     "name": "stdout",
     "output_type": "stream",
     "text": [
      "Epoch 2 Time: 318.12 sec\n",
      "Training Loss: 0.4250 | Validation Loss: 0.4117\n",
      "Validation | Accuracy: 0.8121 | F1: 0.8118 | Precision: 0.8146 | Recall: 0.8121\n",
      "----------------------------------------------------------------------\n",
      "\n",
      "=== Final Summary (LoRA Fine-tuning) ===\n",
      "Total Training Time: 10.60 min\n",
      "Average Time per Epoch: 318.00 sec\n",
      "Average Training Loss: 0.4483\n",
      "Average Validation Loss: 0.4191\n",
      "\n",
      "Classification Report:\n",
      "              precision    recall  f1-score   support\n",
      "\n",
      "    negative       0.79      0.86      0.82      4000\n",
      "    positive       0.84      0.77      0.80      4000\n",
      "\n",
      "    accuracy                           0.81      8000\n",
      "   macro avg       0.81      0.81      0.81      8000\n",
      "weighted avg       0.81      0.81      0.81      8000\n",
      "\n"
     ]
    },
    {
     "data": {
      "image/png": "[encoded data removed]",
      "text/plain": [
       "<Figure size 500x400 with 2 Axes>"
      ]
     },
     "metadata": {},
     "output_type": "display_data"
    }
   ],
   "source": [
    "device = \"cuda\" if torch.cuda.is_available() else \"cpu\"\n",
    "print(\"Using device:\", device)\n",
    "\n",
    "# Dataset & Dataloader\n",
    "train_dataset = TensorDataset(\n",
    "    train_encodings['input_ids'],\n",
    "    train_encodings['attention_mask'],\n",
    "    torch.tensor(train_labels)\n",
    ")\n",
    "val_dataset = TensorDataset(\n",
    "    val_encodings['input_ids'],\n",
    "    val_encodings['attention_mask'],\n",
    "    torch.tensor(val_labels)\n",
    ")\n",
    "\n",
    "train_loader = DataLoader(train_dataset, batch_size=16, shuffle=True)\n",
    "val_loader = DataLoader(val_dataset, batch_size=32)\n",
    "\n",
    "# Initialization\n",
    "base_model = DistilBertForSequenceClassification.from_pretrained(\n",
    "    \"distilbert-base-uncased\",\n",
    "    num_labels=2\n",
    ")\n",
    "\n",
    "lora_config = LoraConfig(\n",
    "    task_type=TaskType.SEQ_CLS,\n",
    "    r=8,  # LoRA rank\n",
    "    lora_alpha=32,\n",
    "    lora_dropout=0.1,\n",
    "    target_modules=[\"q_lin\", \"v_lin\"]  \n",
    ")\n",
    "\n",
    "lora_model = get_peft_model(base_model, lora_config)\n",
    "lora_model.to(device)\n",
    "\n",
    "optimizer = AdamW(lora_model.parameters(), lr=2e-5)\n",
    "\n",
    "# Training Loop\n",
    "epochs = 2\n",
    "train_loss_history, val_loss_history = [], []\n",
    "epoch_times = []\n",
    "\n",
    "print(\"\\n LoRA Fine-tuning \\n\")\n",
    "start_time = time.time()\n",
    "\n",
    "for epoch in range(epochs):\n",
    "    epoch_start = time.time()\n",
    "    print(f\"\\nEpoch {epoch+1}/{epochs}\")\n",
    "\n",
    "    lora_model.train()\n",
    "    total_train_loss = 0.0\n",
    "    progress_bar = tqdm(train_loader, desc=\"Training\", leave=False)\n",
    "\n",
    "    for batch in progress_bar:\n",
    "        input_ids, attention_mask, labels = [b.to(device) for b in batch]\n",
    "        outputs = lora_model(input_ids, attention_mask=attention_mask, labels=labels)\n",
    "        loss = outputs.loss\n",
    "        total_train_loss += loss.item()\n",
    "\n",
    "        optimizer.zero_grad()\n",
    "        loss.backward()\n",
    "        optimizer.step()\n",
    "\n",
    "        progress_bar.set_postfix({\"loss\": f\"{loss.item():.4f}\"})\n",
    "\n",
    "    avg_train_loss = total_train_loss / len(train_loader)\n",
    "    train_loss_history.append(avg_train_loss)\n",
    "\n",
    "    lora_model.eval()\n",
    "    total_val_loss = 0.0\n",
    "    all_preds, all_labels = [], []\n",
    "\n",
    "    with torch.no_grad():\n",
    "        for batch in tqdm(val_loader, desc=\"Validating\", leave=False):\n",
    "            input_ids, attention_mask, labels = [b.to(device) for b in batch]\n",
    "            outputs = lora_model(input_ids, attention_mask=attention_mask, labels=labels)\n",
    "            total_val_loss += outputs.loss.item()\n",
    "            preds = torch.argmax(outputs.logits, dim=-1)\n",
    "            all_preds.extend(preds.cpu().numpy())\n",
    "            all_labels.extend(labels.cpu().numpy())\n",
    "\n",
    "    avg_val_loss = total_val_loss / len(val_loader)\n",
    "    val_loss_history.append(avg_val_loss)\n",
    "\n",
    "    acc = accuracy_score(all_labels, all_preds)\n",
    "    f1 = f1_score(all_labels, all_preds, average='weighted')\n",
    "    precision = precision_score(all_labels, all_preds, average='weighted', zero_division=0)\n",
    "    recall = recall_score(all_labels, all_preds, average='weighted', zero_division=0)\n",
    "\n",
    "    epoch_time = time.time() - epoch_start\n",
    "    epoch_times.append(epoch_time)\n",
    "\n",
    "    print(f\"Epoch {epoch+1} Time: {epoch_time:.2f} sec\")\n",
    "    print(f\"Training Loss: {avg_train_loss:.4f} | Validation Loss: {avg_val_loss:.4f}\")\n",
    "    print(f\"Validation | Accuracy: {acc:.4f} | F1: {f1:.4f} | Precision: {precision:.4f} | Recall: {recall:.4f}\")\n",
    "    print(\"-\" * 70)\n",
    "\n",
    "total_time = time.time() - start_time\n",
    "\n",
    "# Summary\n",
    "print(\"\\n=== Final Summary (LoRA Fine-tuning) ===\")\n",
    "print(f\"Total Training Time: {total_time/60:.2f} min\")\n",
    "print(f\"Average Time per Epoch: {np.mean(epoch_times):.2f} sec\")\n",
    "print(f\"Average Training Loss: {np.mean(train_loss_history):.4f}\")\n",
    "print(f\"Average Validation Loss: {np.mean(val_loss_history):.4f}\")\n",
    "\n",
    "print(\"\\nClassification Report:\")\n",
    "print(classification_report(all_labels, all_preds, target_names=[\"negative\", \"positive\"]))\n",
    "\n",
    "# Confusion Matrix\n",
    "cm_lora = confusion_matrix(all_labels, all_preds)\n",
    "plt.figure(figsize=(5, 4))\n",
    "sns.heatmap(cm_lora, annot=True, fmt=\"d\", cmap=\"Blues\",\n",
    "            xticklabels=[\"Pred:Neg\", \"Pred:Pos\"],\n",
    "            yticklabels=[\"True:Neg\", \"True:Pos\"])\n",
    "plt.title(\"Confusion Matrix (LoRA Fine-tuning)\")\n",
    "plt.xlabel(\"Predicted\")\n",
    "plt.ylabel(\"True\")\n",
    "plt.show()\n"
   ]
  },
  {
   "cell_type": "markdown",
   "metadata": {},
   "source": [
    "***Classifier-only Fine-tuning***"
   ]
  },
  {
   "cell_type": "code",
   "execution_count": 19,
   "metadata": {
    "execution": {
     "iopub.execute_input": "2025-10-17T06:54:08.929046Z",
     "iopub.status.busy": "2025-10-17T06:54:08.928334Z",
     "iopub.status.idle": "2025-10-17T06:59:22.448144Z",
     "shell.execute_reply": "2025-10-17T06:59:22.447395Z",
     "shell.execute_reply.started": "2025-10-17T06:54:08.929019Z"
    },
    "trusted": true
   },
   "outputs": [
    {
     "name": "stdout",
     "output_type": "stream",
     "text": [
      "Using device: cuda\n"
     ]
    },
    {
     "name": "stderr",
     "output_type": "stream",
     "text": [
      "Some weights of DistilBertForSequenceClassification were not initialized from the model checkpoint at distilbert-base-uncased and are newly initialized: ['classifier.bias', 'classifier.weight', 'pre_classifier.bias', 'pre_classifier.weight']\n",
      "You should probably TRAIN this model on a down-stream task to be able to use it for predictions and inference.\n"
     ]
    },
    {
     "name": "stdout",
     "output_type": "stream",
     "text": [
      "\n",
      " Classifier-only Fine-tuning \n",
      "\n",
      "\n",
      "Epoch 1/2\n"
     ]
    },
    {
     "name": "stderr",
     "output_type": "stream",
     "text": [
      "/usr/local/lib/python3.11/dist-packages/transformers/optimization.py:591: FutureWarning: This implementation of AdamW is deprecated and will be removed in a future version. Use the PyTorch implementation torch.optim.AdamW instead, or set `no_deprecation_warning=True` to disable this warning\n",
      "  warnings.warn(\n"
     ]
    },
    {
     "data": {
      "application/vnd.jupyter.widget-view+json": {
       "model_id": "",
       "version_major": 2,
       "version_minor": 0
      },
      "text/plain": [
       "Training:   0%|          | 0/4500 [00:00<?, ?it/s]"
      ]
     },
     "metadata": {},
     "output_type": "display_data"
    },
    {
     "data": {
      "application/vnd.jupyter.widget-view+json": {
       "model_id": "",
       "version_major": 2,
       "version_minor": 0
      },
      "text/plain": [
       "Validating:   0%|          | 0/250 [00:00<?, ?it/s]"
      ]
     },
     "metadata": {},
     "output_type": "display_data"
    },
    {
     "name": "stdout",
     "output_type": "stream",
     "text": [
      "Epoch 1 Time: 156.25 sec\n",
      "Training Loss: 0.6266 | Validation Loss: 0.5865\n",
      "Validation | Accuracy: 0.6950 | F1: 0.6917 | Precision: 0.7038 | Recall: 0.6950\n",
      "----------------------------------------------------------------------\n",
      "\n",
      "Epoch 2/2\n"
     ]
    },
    {
     "data": {
      "application/vnd.jupyter.widget-view+json": {
       "model_id": "",
       "version_major": 2,
       "version_minor": 0
      },
      "text/plain": [
       "Training:   0%|          | 0/4500 [00:00<?, ?it/s]"
      ]
     },
     "metadata": {},
     "output_type": "display_data"
    },
    {
     "data": {
      "application/vnd.jupyter.widget-view+json": {
       "model_id": "",
       "version_major": 2,
       "version_minor": 0
      },
      "text/plain": [
       "Validating:   0%|          | 0/250 [00:00<?, ?it/s]"
      ]
     },
     "metadata": {},
     "output_type": "display_data"
    },
    {
     "name": "stdout",
     "output_type": "stream",
     "text": [
      "Epoch 2 Time: 156.46 sec\n",
      "Training Loss: 0.5828 | Validation Loss: 0.5598\n",
      "Validation | Accuracy: 0.7156 | F1: 0.7149 | Precision: 0.7179 | Recall: 0.7156\n",
      "----------------------------------------------------------------------\n",
      "\n",
      "=== Final Summary (Classifier-only Fine-tuning) ===\n",
      "Total Training Time: 5.21 min\n",
      "Average Time per Epoch: 156.35 sec\n",
      "Average Training Loss: 0.6047\n",
      "Average Validation Loss: 0.5731\n",
      "\n",
      "Classification Report:\n",
      "              precision    recall  f1-score   support\n",
      "\n",
      "    negative       0.74      0.66      0.70      4000\n",
      "    positive       0.70      0.77      0.73      4000\n",
      "\n",
      "    accuracy                           0.72      8000\n",
      "   macro avg       0.72      0.72      0.71      8000\n",
      "weighted avg       0.72      0.72      0.71      8000\n",
      "\n"
     ]
    },
    {
     "data": {
      "image/png": "[encoded data removed]",
      "text/plain": [
       "<Figure size 500x400 with 2 Axes>"
      ]
     },
     "metadata": {},
     "output_type": "display_data"
    }
   ],
   "source": [
    "device = \"cuda\" if torch.cuda.is_available() else \"cpu\"\n",
    "print(\"Using device:\", device)\n",
    "\n",
    "# Dataset & Dataloader\n",
    "train_dataset = TensorDataset(\n",
    "    train_encodings['input_ids'],\n",
    "    train_encodings['attention_mask'],\n",
    "    torch.tensor(train_labels)\n",
    ")\n",
    "val_dataset = TensorDataset(\n",
    "    val_encodings['input_ids'],\n",
    "    val_encodings['attention_mask'],\n",
    "    torch.tensor(val_labels)\n",
    ")\n",
    "\n",
    "train_loader = DataLoader(train_dataset, batch_size=16, shuffle=True)\n",
    "val_loader = DataLoader(val_dataset, batch_size=32)\n",
    "\n",
    "# Initialization\n",
    "partial_model = DistilBertForSequenceClassification.from_pretrained(\n",
    "    \"distilbert-base-uncased\",\n",
    "    num_labels=2 \n",
    ")\n",
    "\n",
    "# Freeze\n",
    "for param in partial_model.distilbert.parameters():\n",
    "    param.requires_grad = False\n",
    "\n",
    "optimizer = AdamW(partial_model.classifier.parameters(), lr=2e-4)\n",
    "partial_model.to(device)\n",
    "\n",
    "epochs = 2\n",
    "train_loss_history, val_loss_history = [], []\n",
    "epoch_times = []\n",
    "\n",
    "print(\"\\n Classifier-only Fine-tuning \\n\")\n",
    "start_time = time.time()\n",
    "\n",
    "for epoch in range(epochs):\n",
    "    epoch_start = time.time()\n",
    "    print(f\"\\nEpoch {epoch+1}/{epochs}\")\n",
    "\n",
    "    partial_model.train()\n",
    "    total_train_loss = 0.0\n",
    "    progress_bar = tqdm(train_loader, desc=\"Training\", leave=False)\n",
    "\n",
    "    for batch in progress_bar:\n",
    "        input_ids, attention_mask, labels = [b.to(device) for b in batch]\n",
    "        outputs = partial_model(input_ids, attention_mask=attention_mask, labels=labels)\n",
    "        loss = outputs.loss\n",
    "        total_train_loss += loss.item()\n",
    "\n",
    "        optimizer.zero_grad()\n",
    "        loss.backward()\n",
    "        optimizer.step()\n",
    "\n",
    "        progress_bar.set_postfix({\"loss\": f\"{loss.item():.4f}\"})\n",
    "\n",
    "    avg_train_loss = total_train_loss / len(train_loader)\n",
    "    train_loss_history.append(avg_train_loss)\n",
    "\n",
    "    partial_model.eval()\n",
    "    total_val_loss = 0.0\n",
    "    all_preds, all_labels = [], []\n",
    "\n",
    "    with torch.no_grad():\n",
    "        for batch in tqdm(val_loader, desc=\"Validating\", leave=False):\n",
    "            input_ids, attention_mask, labels = [b.to(device) for b in batch]\n",
    "            outputs = partial_model(input_ids, attention_mask=attention_mask, labels=labels)\n",
    "            total_val_loss += outputs.loss.item()\n",
    "            preds = torch.argmax(outputs.logits, dim=-1)\n",
    "            all_preds.extend(preds.cpu().numpy())\n",
    "            all_labels.extend(labels.cpu().numpy())\n",
    "\n",
    "    avg_val_loss = total_val_loss / len(val_loader)\n",
    "    val_loss_history.append(avg_val_loss)\n",
    "\n",
    "    acc = accuracy_score(all_labels, all_preds)\n",
    "    f1 = f1_score(all_labels, all_preds, average='weighted')\n",
    "    precision = precision_score(all_labels, all_preds, average='weighted')\n",
    "    recall = recall_score(all_labels, all_preds, average='weighted')\n",
    "\n",
    "    epoch_time = time.time() - epoch_start\n",
    "    epoch_times.append(epoch_time)\n",
    "\n",
    "    print(f\"Epoch {epoch+1} Time: {epoch_time:.2f} sec\")\n",
    "    print(f\"Training Loss: {avg_train_loss:.4f} | Validation Loss: {avg_val_loss:.4f}\")\n",
    "    print(f\"Validation | Accuracy: {acc:.4f} | F1: {f1:.4f} | Precision: {precision:.4f} | Recall: {recall:.4f}\")\n",
    "    print(\"-\" * 70)\n",
    "\n",
    "total_time = time.time() - start_time\n",
    "\n",
    "# Summary\n",
    "print(\"\\n=== Final Summary (Classifier-only Fine-tuning) ===\")\n",
    "print(f\"Total Training Time: {total_time/60:.2f} min\")\n",
    "print(f\"Average Time per Epoch: {np.mean(epoch_times):.2f} sec\")\n",
    "print(f\"Average Training Loss: {np.mean(train_loss_history):.4f}\")\n",
    "print(f\"Average Validation Loss: {np.mean(val_loss_history):.4f}\")\n",
    "\n",
    "print(\"\\nClassification Report:\")\n",
    "print(classification_report(all_labels, all_preds, target_names=[\"negative\", \"positive\"]))\n",
    "\n",
    "# Confusion Matrix\n",
    "cm_partial = confusion_matrix(all_labels, all_preds)\n",
    "plt.figure(figsize=(5, 4))\n",
    "sns.heatmap(cm_partial, annot=True, fmt=\"d\", cmap=\"Blues\",\n",
    "            xticklabels=[\"Pred:Neg\", \"Pred:Pos\"],\n",
    "            yticklabels=[\"True:Neg\", \"True:Pos\"])\n",
    "plt.title(\"Confusion Matrix (Classifier-only Fine-tuning)\")\n",
    "plt.xlabel(\"Predicted\")\n",
    "plt.ylabel(\"True\")\n",
    "plt.show()"
   ]
  },
  {
   "cell_type": "markdown",
   "metadata": {},
   "source": [
    "## **Error Analysis**"
   ]
  },
  {
   "cell_type": "code",
   "execution_count": 21,
   "metadata": {
    "execution": {
     "iopub.execute_input": "2025-10-17T07:07:17.554027Z",
     "iopub.status.busy": "2025-10-17T07:07:17.553487Z",
     "iopub.status.idle": "2025-10-17T07:07:17.986931Z",
     "shell.execute_reply": "2025-10-17T07:07:17.986110Z",
     "shell.execute_reply.started": "2025-10-17T07:07:17.554003Z"
    },
    "trusted": true
   },
   "outputs": [
    {
     "name": "stderr",
     "output_type": "stream",
     "text": [
      "/tmp/ipykernel_158/3839678837.py:24: UserWarning: This figure includes Axes that are not compatible with tight_layout, so results might be incorrect.\n",
      "  plt.tight_layout(rect=[0, 0, 0.9, 1])\n"
     ]
    },
    {
     "data": {
      "image/png": "[encoded data removed]",
      "text/plain": [
       "<Figure size 1500x400 with 4 Axes>"
      ]
     },
     "metadata": {},
     "output_type": "display_data"
    }
   ],
   "source": [
    "cms = [cm_full, cm_lora, cm_partial]\n",
    "titles = [\"Full Fine-tuning\", \"LoRA Fine-tuning\", \"Classifier-only Fine-tuning\"]\n",
    "\n",
    "fig, axes = plt.subplots(1, 3, figsize=(15, 4))\n",
    "\n",
    "vmax = max(cm.max() for cm in cms)\n",
    "\n",
    "for ax, cm, title in zip(axes, cms, titles):\n",
    "    sns.heatmap(cm, annot=True, fmt=\"d\", cmap=\"Blues\",\n",
    "                xticklabels=[\"Pred:Neg\", \"Pred:Pos\"],\n",
    "                yticklabels=[\"True:Neg\", \"True:Pos\"],\n",
    "                cbar=False,\n",
    "                vmin=0, vmax=vmax,\n",
    "                ax=ax)\n",
    "    ax.set_title(f\"Confusion Matrix ({title})\")\n",
    "    ax.set_xlabel(\"Predicted\")\n",
    "    ax.set_ylabel(\"True\" if ax == axes[0] else \"\")\n",
    "\n",
    "cbar_ax = fig.add_axes([0.92, 0.15, 0.02, 0.7])\n",
    "sm = plt.cm.ScalarMappable(cmap=\"Blues\", norm=plt.Normalize(vmin=0, vmax=vmax))\n",
    "sm.set_array([])\n",
    "fig.colorbar(sm, cax=cbar_ax, label=\"Number of samples\")\n",
    "\n",
    "plt.tight_layout(rect=[0, 0, 0.9, 1])\n",
    "plt.show()\n"
   ]
  },
  {
   "cell_type": "code",
   "execution_count": 28,
   "metadata": {
    "execution": {
     "iopub.execute_input": "2025-10-17T07:24:51.666033Z",
     "iopub.status.busy": "2025-10-17T07:24:51.665177Z",
     "iopub.status.idle": "2025-10-17T07:24:51.678102Z",
     "shell.execute_reply": "2025-10-17T07:24:51.677319Z",
     "shell.execute_reply.started": "2025-10-17T07:24:51.666007Z"
    },
    "trusted": true
   },
   "outputs": [],
   "source": [
    "stop_words = set(stopwords.words('english'))\n",
    "\n",
    "def analyze_errors_with_text_features(model, dataloader, texts, device, \n",
    "                                      label_names=None, top_n=10, max_words=20,\n",
    "                                      ax=None, title=\"Error Text Length Distribution\"):\n",
    "    model.eval()\n",
    "    all_preds, all_labels, all_texts = [], [], []\n",
    "\n",
    "    for batch_idx, batch in enumerate(tqdm(dataloader, desc=\"Analyzing errors\")):\n",
    "        input_ids, attention_mask, labels = [b.to(device) for b in batch]\n",
    "        outputs = model(input_ids, attention_mask=attention_mask)\n",
    "        preds = torch.argmax(outputs.logits, dim=-1)\n",
    "\n",
    "        all_preds.extend(preds.cpu().numpy())\n",
    "        all_labels.extend(labels.cpu().numpy())\n",
    "\n",
    "        start_idx = batch_idx * dataloader.batch_size\n",
    "        end_idx = start_idx + len(labels)\n",
    "        all_texts.extend(texts[start_idx:end_idx])\n",
    "\n",
    "    df_results = pd.DataFrame({\n",
    "        \"text\": all_texts,\n",
    "        \"true_label\": all_labels,\n",
    "        \"pred_label\": all_preds\n",
    "    })\n",
    "    df_errors = df_results[df_results[\"true_label\"] != df_results[\"pred_label\"]]\n",
    "    top_errors = df_errors.head(top_n)\n",
    "\n",
    "    error_counts = df_errors[\"true_label\"].value_counts()\n",
    "    total_counts = df_results[\"true_label\"].value_counts()\n",
    "    error_rate_by_class = (error_counts / total_counts).fillna(0)\n",
    "\n",
    "    # Length\n",
    "    df_errors['text_length'] = df_errors['text'].apply(lambda x: len(x.split()))\n",
    "    length_counts = df_errors['text_length'].value_counts().sort_index()\n",
    "    \n",
    "    x = length_counts.index\n",
    "    y = length_counts.values\n",
    "    \n",
    "    if ax is None:\n",
    "        plt.figure(figsize=(8,4))\n",
    "        ax = plt.gca()\n",
    "    \n",
    "    ax.bar(x, y, color='skyblue', edgecolor='none')\n",
    "    ax.set_xlabel(\"Number of Words\")\n",
    "    ax.set_ylabel(\"Frequency\") \n",
    "    ax.set_title(title)\n",
    "    ax.tick_params(axis='x')\n",
    "\n",
    "\n",
    "    # Top-10 Words\n",
    "    words = []\n",
    "    for text in df_errors['text']:\n",
    "        text_clean = re.sub(r'[^\\w\\s]', '', text.lower())\n",
    "        words.extend([w for w in text_clean.split() if w not in stop_words])\n",
    "    word_counts = Counter(words)\n",
    "    print(f\"Top {max_words} frequent words in error texts:\")\n",
    "    for w, c in word_counts.most_common(max_words):\n",
    "        print(f'\"{w}\": {c}')\n",
    "\n",
    "    print(\"\\n=== Example error texts for top frequent words with true labels ===\")\n",
    "    example_dict = {}\n",
    "    \n",
    "    label_map = {0: \"negative\", 1: \"positive\"} \n",
    "    \n",
    "    for w, _ in word_counts.most_common(5):  \n",
    "        examples = df_errors[df_errors['text'].str.contains(rf'\\b{w}\\b', case=False, na=False)][['text','true_label']].head(3)\n",
    "        example_dict[w] = examples\n",
    "    \n",
    "        print(f'\\nWord: \"{w}\"')\n",
    "        for i, row in examples.iterrows():\n",
    "            text_snip = row['text'][:150] + (\"...\" if len(row['text']) > 150 else \"\")\n",
    "            label_str = label_map.get(row['true_label'], str(row['true_label']))\n",
    "            print(f'  {i+1}. [{label_str}] {text_snip}')\n",
    "\n",
    "\n",
    "    return top_errors, df_errors"
   ]
  },
  {
   "cell_type": "code",
   "execution_count": 29,
   "metadata": {
    "execution": {
     "iopub.execute_input": "2025-10-17T07:24:55.019119Z",
     "iopub.status.busy": "2025-10-17T07:24:55.018329Z",
     "iopub.status.idle": "2025-10-17T07:25:39.141549Z",
     "shell.execute_reply": "2025-10-17T07:25:39.140689Z",
     "shell.execute_reply.started": "2025-10-17T07:24:55.019092Z"
    },
    "trusted": true
   },
   "outputs": [
    {
     "data": {
      "application/vnd.jupyter.widget-view+json": {
       "model_id": "00b5dbf81c4541cc8378caa4fb6c0c18",
       "version_major": 2,
       "version_minor": 0
      },
      "text/plain": [
       "Analyzing errors:   0%|          | 0/250 [00:00<?, ?it/s]"
      ]
     },
     "metadata": {},
     "output_type": "display_data"
    },
    {
     "name": "stdout",
     "output_type": "stream",
     "text": [
      "Top 10 frequent words in error texts:\n",
      "\"im\": 148\n",
      "\"get\": 79\n",
      "\"like\": 73\n",
      "\"dont\": 70\n",
      "\"lol\": 69\n",
      "\"back\": 64\n",
      "\"work\": 62\n",
      "\"day\": 60\n",
      "\"time\": 59\n",
      "\"go\": 57\n",
      "\n",
      "=== Example error texts for top frequent words with true labels ===\n",
      "\n",
      "Word: \"im\"\n",
      "  248. [positive] early zzzzzzzzzzzzzzz..............im sooo inspired  in life you cant let the small stuff get to ya!!\n",
      "  326. [negative] I think so  re: http://ff.im/3Cdsp\n",
      "  391. [negative] @BBIZZYYY sounds like we both need some snuggles  sorry hun, but ur young &amp; beautiful &amp; Im sure theres something amazing awaiting you!\n",
      "\n",
      "Word: \"get\"\n",
      "  13. [negative] bed...sorta. today was good, sara has strep thought Angelina does to; i shared a water with her B4 they told me, i will prob get it to \n",
      "  26. [positive] @Alyssa_Milano Darn you and your Dodgers!!!!!!!! Good game good game. Tomorrow you get a day game in Wrigley, I am predicting a Cubs win! \n",
      "  248. [positive] early zzzzzzzzzzzzzzz..............im sooo inspired  in life you cant let the small stuff get to ya!!\n",
      "\n",
      "Word: \"like\"\n",
      "  17. [positive] I like getting 3G service in areas no one else even has service \n",
      "  91. [positive] @Miizlushious I'm just like DUH! everyone is anxious, his mom and sister tell me too that they can't wait for her to be born. \n",
      "  95. [negative] @elmina I like your next09 video. Would you allow me to follow you on #twitter #fail  ?\n",
      "\n",
      "Word: \"dont\"\n",
      "  22. [negative] @RockinMileyFans  dont let it fade away!!!!!!!!!!! so how r u 2day?\n",
      "  296. [negative] Listening to &quot;Dont Wanna Try&quot; by Frankie J \n",
      "  356. [positive] if u cant do it right then dont do it at all!!! LOL \n",
      "\n",
      "Word: \"lol\"\n",
      "  79. [negative] @YoungJizzo every time i see you i invite u over. ur in the mcdonalds line, or @ dennys or @???  lol come over anytime! (w ur report card)\n",
      "  125. [positive] @CaliCG LMAO  i think ive had one to many REDVINES lol it LATE\n",
      "  151. [positive] my neck is heavy because of my Asian bling lol \n"
     ]
    },
    {
     "name": "stderr",
     "output_type": "stream",
     "text": [
      "/tmp/ipykernel_158/204715583.py:34: SettingWithCopyWarning: \n",
      "A value is trying to be set on a copy of a slice from a DataFrame.\n",
      "Try using .loc[row_indexer,col_indexer] = value instead\n",
      "\n",
      "See the caveats in the documentation: https://pandas.pydata.org/pandas-docs/stable/user_guide/indexing.html#returning-a-view-versus-a-copy\n",
      "  df_errors['text_length'] = df_errors['text'].apply(lambda x: len(x.split()))\n"
     ]
    },
    {
     "data": {
      "application/vnd.jupyter.widget-view+json": {
       "model_id": "8b1035fb36ab49dda0774a9ffa465aaf",
       "version_major": 2,
       "version_minor": 0
      },
      "text/plain": [
       "Analyzing errors:   0%|          | 0/250 [00:00<?, ?it/s]"
      ]
     },
     "metadata": {},
     "output_type": "display_data"
    },
    {
     "name": "stdout",
     "output_type": "stream",
     "text": [
      "Top 10 frequent words in error texts:\n",
      "\"im\": 193\n",
      "\"get\": 84\n",
      "\"dont\": 83\n",
      "\"lol\": 81\n",
      "\"like\": 78\n",
      "\"day\": 76\n",
      "\"one\": 66\n",
      "\"work\": 66\n",
      "\"back\": 64\n",
      "\"time\": 63\n",
      "\n",
      "=== Example error texts for top frequent words with true labels ===\n",
      "\n",
      "Word: \"im\"\n",
      "  326. [negative] I think so  re: http://ff.im/3Cdsp\n",
      "  391. [negative] @BBIZZYYY sounds like we both need some snuggles  sorry hun, but ur young &amp; beautiful &amp; Im sure theres something amazing awaiting you!\n",
      "  619. [positive] @Rosherrrs the same trust me - without the exams - im a final yr med student here so gotta buckle up  been studying all week ... lol\n",
      "\n",
      "Word: \"get\"\n",
      "  13. [negative] bed...sorta. today was good, sara has strep thought Angelina does to; i shared a water with her B4 they told me, i will prob get it to \n",
      "  316. [negative] @MBGsam  oh dear...lots of cuddles,snuggles,hugs kisses for her!and get well soon!\n",
      "  380. [positive] awwwwwwwwwwww =( i sorry. you get a room! and a free ice cream cone..... with sprinkles \n",
      "\n",
      "Word: \"dont\"\n",
      "  22. [negative] @RockinMileyFans  dont let it fade away!!!!!!!!!!! so how r u 2day?\n",
      "  296. [negative] Listening to &quot;Dont Wanna Try&quot; by Frankie J \n",
      "  356. [positive] if u cant do it right then dont do it at all!!! LOL \n",
      "\n",
      "Word: \"lol\"\n",
      "  79. [negative] @YoungJizzo every time i see you i invite u over. ur in the mcdonalds line, or @ dennys or @???  lol come over anytime! (w ur report card)\n",
      "  100. [negative] @PeteyBennett Yeah.. i didn't change my opinion like i thought i would lol.   I hope it gets better!\n",
      "  101. [positive] @druzziel LOL, surely it can't be that bad \n",
      "\n",
      "Word: \"like\"\n",
      "  17. [positive] I like getting 3G service in areas no one else even has service \n",
      "  60. [negative] @goldmedalgasser what, you don't like it?  \n",
      "  91. [positive] @Miizlushious I'm just like DUH! everyone is anxious, his mom and sister tell me too that they can't wait for her to be born. \n"
     ]
    },
    {
     "name": "stderr",
     "output_type": "stream",
     "text": [
      "/tmp/ipykernel_158/204715583.py:34: SettingWithCopyWarning: \n",
      "A value is trying to be set on a copy of a slice from a DataFrame.\n",
      "Try using .loc[row_indexer,col_indexer] = value instead\n",
      "\n",
      "See the caveats in the documentation: https://pandas.pydata.org/pandas-docs/stable/user_guide/indexing.html#returning-a-view-versus-a-copy\n",
      "  df_errors['text_length'] = df_errors['text'].apply(lambda x: len(x.split()))\n"
     ]
    },
    {
     "data": {
      "application/vnd.jupyter.widget-view+json": {
       "model_id": "92c7ccfa0a98409bba07879aeeef06ed",
       "version_major": 2,
       "version_minor": 0
      },
      "text/plain": [
       "Analyzing errors:   0%|          | 0/250 [00:00<?, ?it/s]"
      ]
     },
     "metadata": {},
     "output_type": "display_data"
    },
    {
     "name": "stderr",
     "output_type": "stream",
     "text": [
      "/tmp/ipykernel_158/204715583.py:34: SettingWithCopyWarning: \n",
      "A value is trying to be set on a copy of a slice from a DataFrame.\n",
      "Try using .loc[row_indexer,col_indexer] = value instead\n",
      "\n",
      "See the caveats in the documentation: https://pandas.pydata.org/pandas-docs/stable/user_guide/indexing.html#returning-a-view-versus-a-copy\n",
      "  df_errors['text_length'] = df_errors['text'].apply(lambda x: len(x.split()))\n"
     ]
    },
    {
     "name": "stdout",
     "output_type": "stream",
     "text": [
      "Top 10 frequent words in error texts:\n",
      "\"im\": 283\n",
      "\"get\": 122\n",
      "\"go\": 121\n",
      "\"like\": 113\n",
      "\"dont\": 111\n",
      "\"lol\": 100\n",
      "\"time\": 97\n",
      "\"love\": 95\n",
      "\"day\": 95\n",
      "\"good\": 94\n",
      "\n",
      "=== Example error texts for top frequent words with true labels ===\n",
      "\n",
      "Word: \"im\"\n",
      "  133. [positive] @RobEctor Im everywhere  lol...How you been?\n",
      "  326. [negative] I think so  re: http://ff.im/3Cdsp\n",
      "  385. [negative] @michelleday a;sdlfjka;slkdfj FU. i cant believe im grounded and i missed coldplay. TWICE! both times!  wow. fml\n",
      "\n",
      "Word: \"get\"\n",
      "  223. [negative] It's too earlyyyy to get up!!  xx\n",
      "  316. [negative] @MBGsam  oh dear...lots of cuddles,snuggles,hugs kisses for her!and get well soon!\n",
      "  383. [negative] @the_carl Sounds like I missed a great time tonight  Had a good time here but can't wait to get home.\n",
      "\n",
      "Word: \"go\"\n",
      "  241. [negative] back 2 wrk! it sux!  cant wait to go bk hm to wifey!\n",
      "  343. [negative] @GabrielaValella Date last night, Nephew's 1st birthday party today (Yay!), &amp; my 5K run tom. I SO want to go out tonight, but I must rest \n",
      "  387. [negative] Rain rain go away!  I'm ready for some baseball! Rain + humidity makes for MAJOR FRIZZY HAIR! \n",
      "\n",
      "Word: \"like\"\n",
      "  17. [positive] I like getting 3G service in areas no one else even has service \n",
      "  35. [positive] is kinda shocked. Hearin' from him made me not worry bout it so much....uh oh...I'm slackin...he might be gettin to me  i kinda like it\n",
      "  60. [negative] @goldmedalgasser what, you don't like it?  \n",
      "\n",
      "Word: \"dont\"\n",
      "  22. [negative] @RockinMileyFans  dont let it fade away!!!!!!!!!!! so how r u 2day?\n",
      "  296. [negative] Listening to &quot;Dont Wanna Try&quot; by Frankie J \n",
      "  356. [positive] if u cant do it right then dont do it at all!!! LOL \n"
     ]
    },
    {
     "data": {
      "image/png": "[encoded data removed]",
      "text/plain": [
       "<Figure size 1800x500 with 3 Axes>"
      ]
     },
     "metadata": {},
     "output_type": "display_data"
    }
   ],
   "source": [
    "fig, axs = plt.subplots(1, 3, figsize=(18, 5), sharey=True) \n",
    "\n",
    "models = [full_model, lora_model, partial_model]\n",
    "dataloaders = [val_loader, val_loader, val_loader]\n",
    "texts_list = [val_texts, val_texts, val_texts]  \n",
    "titles = [\"Full Fine-tuning\", \"LoRA Fine-tuning\", \"Classifier-only Fine-tuning\"]\n",
    "\n",
    "all_top_errors, all_df_errors = [], []\n",
    "\n",
    "for i, (model, dataloader, texts) in enumerate(zip(models, dataloaders, texts_list)):\n",
    "    top_errors, df_errors = analyze_errors_with_text_features(\n",
    "        model, dataloader, texts, device,\n",
    "        top_n=10, max_words=10,\n",
    "        ax=axs[i],\n",
    "        title=f\"Error Text Length ({titles[i]})\"\n",
    "    )\n",
    "    all_top_errors.append(top_errors)\n",
    "    all_df_errors.append(df_errors)\n",
    "\n",
    "plt.tight_layout()\n",
    "plt.show()\n"
   ]
  }
 ],
 "metadata": {
  "kaggle": {
   "accelerator": "gpu",
   "dataSources": [
    {
     "datasetId": 2477,
     "isSourceIdPinned": false,
     "sourceId": 4140,
     "sourceType": "datasetVersion"
    },
    {
     "datasetId": 8488965,
     "sourceId": 13379712,
     "sourceType": "datasetVersion"
    }
   ],
   "dockerImageVersionId": 31154,
   "isGpuEnabled": true,
   "isInternetEnabled": true,
   "language": "python",
   "sourceType": "notebook"
  },
  "kernelspec": {
   "display_name": "Python 3",
   "language": "python",
   "name": "python3"
  },
  "language_info": {
   "codemirror_mode": {
    "name": "ipython",
    "version": 3
   },
   "file_extension": ".py",
   "mimetype": "text/x-python",
   "name": "python",
   "nbconvert_exporter": "python",
   "pygments_lexer": "ipython3",
   "version": "3.11.13"
  }
 },
 "nbformat": 4,
 "nbformat_minor": 4
}
